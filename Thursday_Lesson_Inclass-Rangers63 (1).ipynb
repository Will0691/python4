{
 "cells": [
  {
   "cell_type": "markdown",
   "metadata": {},
   "source": [
    "# Object-Oriented-Programming (OOP)"
   ]
  },
  {
   "cell_type": "markdown",
   "metadata": {},
   "source": [
    "## Tasks Today:\n",
    "\n",
    "   \n",
    "\n",
    "1) <b>Creating a Class (Initializing/Declaring)</b> <br>\n",
    "2) <b>Using a Class (Instantiating)</b> <br>\n",
    " &nbsp;&nbsp;&nbsp;&nbsp; a) Creating One Instance <br>\n",
    " &nbsp;&nbsp;&nbsp;&nbsp; b) Creating Multiple Instances <br>\n",
    " &nbsp;&nbsp;&nbsp;&nbsp; c) In-Class Exercise #1 - Create a Class 'Car' and instantiate three different makes of cars <br>\n",
    "3) <b>The \\__init\\__() Method</b> <br>\n",
    " &nbsp;&nbsp;&nbsp;&nbsp; a) The 'self' Attribute <br>\n",
    "4) <b>Class Attributes</b> <br>\n",
    " &nbsp;&nbsp;&nbsp;&nbsp; a) Initializing Attributes <br>\n",
    " &nbsp;&nbsp;&nbsp;&nbsp; b) Setting an Attribute Outside of the \\__init\\__() Method <br>\n",
    " &nbsp;&nbsp;&nbsp;&nbsp; c) Setting Defaults for Attributes <br>\n",
    " &nbsp;&nbsp;&nbsp;&nbsp; d) Accessing Class Attributes <br>\n",
    " &nbsp;&nbsp;&nbsp;&nbsp; e) Changing Class Attributes <br>\n",
    " &nbsp;&nbsp;&nbsp;&nbsp; f) In-Class Exercise #2 - Add a color and wheels attribute to your 'Car' class <br>\n",
    "5) <b>Class Methods</b> <br>\n",
    " &nbsp;&nbsp;&nbsp;&nbsp; a) Creating <br>\n",
    " &nbsp;&nbsp;&nbsp;&nbsp; b) Calling <br>\n",
    " &nbsp;&nbsp;&nbsp;&nbsp; c) Modifying an Attribute's Value Through a Method <br>\n",
    " &nbsp;&nbsp;&nbsp;&nbsp; d) Incrementing an Attribute's Value Through a Method <br>\n",
    " &nbsp;&nbsp;&nbsp;&nbsp; e) In-Class Exercise #3 - Add a method that prints the cars color and wheel number, then call them <br>\n",
    "6) <b>Inheritance</b> <br>\n",
    " &nbsp;&nbsp;&nbsp;&nbsp; a) Syntax for Inheriting from a Parent Class <br>\n",
    " &nbsp;&nbsp;&nbsp;&nbsp; b) The \\__init\\__() Method for a Child Class (super()) <br>\n",
    " &nbsp;&nbsp;&nbsp;&nbsp; c) Defining Attributes and Methods for the Child Class <br>\n",
    " &nbsp;&nbsp;&nbsp;&nbsp; d) Method Overriding <br>\n",
    " &nbsp;&nbsp;&nbsp;&nbsp; e) In-Class Exercise #4 - Create a class 'Ford' that inherits from 'Car' class and initialize it as a Blue Ford Explorer with 4 wheels using the super() method <br>\n",
    "7) <b>Classes as Attributes</b> <br>\n",
    "8) <b>Exercises</b> <br>\n",
    " &nbsp;&nbsp;&nbsp;&nbsp; a) Exercise #1 - Turn the shopping cart program from yesterday into an object-oriented program <br>"
   ]
  },
  {
   "cell_type": "markdown",
   "metadata": {},
   "source": [
    "## Creating a Class (Initializing/Declaring)\n",
    "<p>When creating a class, function, or even a variable you are initializing that object. Initializing and Declaring occur at the same time in Python, whereas in lower level languages you have to declare an object before initializing it. This is the first step in the process of using a class.</p>"
   ]
  },
  {
   "cell_type": "code",
   "execution_count": 4,
   "metadata": {},
   "outputs": [],
   "source": [
    "class Car():\n",
    "    wheels = 4\n",
    "    color = 'blue'\n",
    "    windshield_wipers = 'wiping wee woo wee woo'"
   ]
  },
  {
   "cell_type": "markdown",
   "metadata": {},
   "source": [
    "## Using a Class (Instantiating)\n",
    "<p>The process of creating a class is called <i>Instantiating</i>. Each time you create a variable of that type of class, it is referred to as an <i>Instance</i> of that class. This is the second step in the process of using a class.</p>"
   ]
  },
  {
   "cell_type": "markdown",
   "metadata": {},
   "source": [
    "##### Creating One Instance"
   ]
  },
  {
   "cell_type": "code",
   "execution_count": 5,
   "metadata": {},
   "outputs": [
    {
     "name": "stdout",
     "output_type": "stream",
     "text": [
      "wiping wee woo wee woo\n"
     ]
    }
   ],
   "source": [
    "ford = Car()\n",
    "\n",
    "print(ford.windshield_wipers)"
   ]
  },
  {
   "cell_type": "markdown",
   "metadata": {},
   "source": [
    "##### Creating Multiple Instances"
   ]
  },
  {
   "cell_type": "code",
   "execution_count": 6,
   "metadata": {},
   "outputs": [
    {
     "name": "stdout",
     "output_type": "stream",
     "text": [
      "<class 'str'>\n"
     ]
    }
   ],
   "source": [
    "chevrolet = Car()\n",
    "honda = Car()\n",
    "porsche = Car()\n",
    "\n",
    "print(type(porsche.color))"
   ]
  },
  {
   "cell_type": "markdown",
   "metadata": {},
   "source": [
    "##### In-Class Exercise #1 - Create a Class 'Car' and Instantiate three different makes of cars"
   ]
  },
  {
   "cell_type": "code",
   "execution_count": 13,
   "metadata": {},
   "outputs": [
    {
     "name": "stdout",
     "output_type": "stream",
     "text": [
      "Grey? The paint has mostly peeled off...\n",
      "A color too expensive for your eyes to see\n"
     ]
    }
   ],
   "source": [
    "class Car():\n",
    "    doors = 4\n",
    "    color = 'Blue'\n",
    "    wheels = 4\n",
    "    features = {}\n",
    "    is_pre_owned = False\n",
    "    \n",
    "    \n",
    "cheap_car = Car()\n",
    "cheap_car.color = 'Grey? The paint has mostly peeled off...'\n",
    "cheap_car.features = {\n",
    "    'Only lightly dented', \n",
    "    'Cracked windows give it a lot of personality', \n",
    "    'Has personally witnessed multiple highway accidents, and even participated in a few',\n",
    "} \n",
    "cheap_car.is_pre_owned = True\n",
    "\n",
    "expensive_car = Car()\n",
    "expensive_car.color = 'A color too expensive for your eyes to see'\n",
    "expensive_car.features = {\n",
    "    'Has the latest state of the art assistance features', \n",
    "    'Eject button to remove unruly passengers who don\\'t know their place', \n",
    "    'Hi-tech anti-theft system, because you\\'ll definitely need it',\n",
    "}\n",
    "\n",
    "\n",
    "racecar = Car()\n",
    "racecar.color = 'Red, the fastest color'\n",
    "racecar.doors = 2\n",
    "racecar.features = {\n",
    "    'Fast', \n",
    "    'Very fast', \n",
    "    'Did I mention it was fast?',\n",
    "} "
   ]
  },
  {
   "cell_type": "markdown",
   "metadata": {},
   "source": [
    "## The \\__init\\__() Method <br>\n",
    "<p>This method is used in almost every created class, and called only once upon the creation of the class instance. This method will initialize all variables needed for the object.</p>"
   ]
  },
  {
   "cell_type": "code",
   "execution_count": 14,
   "metadata": {},
   "outputs": [
    {
     "name": "stdout",
     "output_type": "stream",
     "text": [
      "black\n",
      "blue\n",
      "4\n",
      "6\n"
     ]
    }
   ],
   "source": [
    "class Car():\n",
    "    engine = '4.7L' # Global within class - any method inside the class can call upon this variable\n",
    "    \n",
    "    def __init__(self, color, wheels):\n",
    "        self.color = color\n",
    "        self.wheels = wheels\n",
    "        \n",
    "mazda = Car('black', 4)\n",
    "subaru = Car('blue', 6)\n",
    "\n",
    "print(mazda.color)\n",
    "print(subaru.color)\n",
    "print(mazda.wheels)\n",
    "print(subaru.wheels)"
   ]
  },
  {
   "cell_type": "markdown",
   "metadata": {},
   "source": [
    "##### The 'self' Attribute <br>\n",
    "<p>This attribute is required to keep track of specific instance's attributes. Without the self attribute, the program would not know how to reference or keep track of an instance's attributes.</p>"
   ]
  },
  {
   "cell_type": "code",
   "execution_count": null,
   "metadata": {},
   "outputs": [],
   "source": [
    "# see above"
   ]
  },
  {
   "cell_type": "markdown",
   "metadata": {},
   "source": [
    "## Class Attributes <br>\n",
    "<p>While variables are inside of a class, they are referred to as attributes and not variables. When someone says 'attribute' you know they're speaking about a class. Attributes can be initialized through the init method, or outside of it.</p>"
   ]
  },
  {
   "cell_type": "markdown",
   "metadata": {},
   "source": [
    "##### Initializing Attributes"
   ]
  },
  {
   "cell_type": "code",
   "execution_count": 17,
   "metadata": {},
   "outputs": [],
   "source": [
    "# see above\n",
    "\n",
    "class Toy():\n",
    "    kind = 'car' # This is called a constant\n",
    "    \n",
    "    def __init__(self, rooftop, horn, wheels):\n",
    "        self.rooftop = rooftop\n",
    "        self.horn = horn\n",
    "        self.wheels = wheels\n",
    "        \n",
    "tonka_truck = Toy(1, 1, 4)\n",
    "hotwheels_car = Toy(2, 3, 8)"
   ]
  },
  {
   "cell_type": "markdown",
   "metadata": {},
   "source": [
    "##### Accessing Class Attributes"
   ]
  },
  {
   "cell_type": "code",
   "execution_count": 19,
   "metadata": {
    "scrolled": true
   },
   "outputs": [
    {
     "data": {
      "text/plain": [
       "8"
      ]
     },
     "execution_count": 19,
     "metadata": {},
     "output_type": "execute_result"
    }
   ],
   "source": [
    "# See Above\n",
    "\n",
    "tonka_truck.rooftop\n",
    "hotwheels_car.wheels"
   ]
  },
  {
   "cell_type": "markdown",
   "metadata": {},
   "source": [
    "##### Setting Defaults for Attributes"
   ]
  },
  {
   "cell_type": "code",
   "execution_count": 20,
   "metadata": {},
   "outputs": [
    {
     "data": {
      "text/plain": [
       "'Blue'"
      ]
     },
     "execution_count": 20,
     "metadata": {},
     "output_type": "execute_result"
    }
   ],
   "source": [
    "class Car():\n",
    "    engine = '4.7L'\n",
    "    \n",
    "    def __init__(self, wheels):\n",
    "        self.wheels = wheels\n",
    "        self.color = 'Blue'\n",
    "        \n",
    "honda = Car(4)\n",
    "honda.color"
   ]
  },
  {
   "cell_type": "markdown",
   "metadata": {},
   "source": [
    "##### Changing Class Attributes <br>\n",
    "<p>Keep in mind there are global class attributes and then there are attributes only available to each class instance which won't effect other classes.</p>"
   ]
  },
  {
   "cell_type": "code",
   "execution_count": 22,
   "metadata": {},
   "outputs": [
    {
     "name": "stdout",
     "output_type": "stream",
     "text": [
      "Before change: Blue\n",
      "After change: White\n",
      "Blue\n"
     ]
    }
   ],
   "source": [
    "jeep = Car(4)\n",
    "\n",
    "print(f'Before change: {jeep.color}')\n",
    "\n",
    "jeep.color = 'White'\n",
    "\n",
    "print(f'After change: {jeep.color}')\n",
    "\n",
    "print(honda.color)"
   ]
  },
  {
   "cell_type": "code",
   "execution_count": null,
   "metadata": {},
   "outputs": [],
   "source": []
  },
  {
   "cell_type": "markdown",
   "metadata": {},
   "source": [
    "##### In-Class Exercise #2 - Add a doors and seats attribute to your 'Car' class then print out two different instances with different doors and seats"
   ]
  },
  {
   "cell_type": "code",
   "execution_count": 33,
   "metadata": {},
   "outputs": [
    {
     "name": "stdout",
     "output_type": "stream",
     "text": [
      "This basic, ordinary car has 4 doors, 4 seats, 4 wheels, and is the color blue\n",
      "This expensive and luxurious limo has 5 doors, 8 seats, 10 wheels, and is an elegant Black color\n"
     ]
    }
   ],
   "source": [
    "class Car():\n",
    "    def __init__(self, doors, seats, wheels = 4, color = 'blue'):\n",
    "        self.doors = doors\n",
    "        self.seats = seats\n",
    "        self.wheels = wheels\n",
    "        self.color = color\n",
    "    \n",
    "basic_car = Car(4, 4,)\n",
    "limo = Car(5, 8, 10, 'Black')\n",
    "\n",
    "print(f'This basic, ordinary car has {basic_car.doors} doors, {basic_car.seats} seats,'\n",
    "      f' {basic_car.wheels} wheels, and is the color {basic_car.color}')\n",
    "print(f'This expensive and luxurious limo has {limo.doors} doors, {limo.seats} seats,'\n",
    "      f' {limo.wheels} wheels, and is an elegant {limo.color} color')"
   ]
  },
  {
   "cell_type": "markdown",
   "metadata": {},
   "source": [
    "## Class Methods <br>\n",
    "<p>While inside of a class, functions are referred to as 'methods'. If you hear someone mention methods, they're speaking about classes. Methods are essentially functions, but only callable on the instances of a class.</p>"
   ]
  },
  {
   "cell_type": "markdown",
   "metadata": {},
   "source": [
    "##### Creating"
   ]
  },
  {
   "cell_type": "code",
   "execution_count": 46,
   "metadata": {},
   "outputs": [],
   "source": [
    "class ShoppingBag():\n",
    "    '''\n",
    "    The ShoppingBag class will have handles, capacity,\n",
    "    and items to place inside\n",
    "    \n",
    "    Attributes for the class:\n",
    "    - handles: expected to be an integer\n",
    "    - capacity: expected to be a string OR an integer\n",
    "    - items: expected to be a list\n",
    "    '''\n",
    "    \n",
    "    def __init__(self, handles, capacity, items):\n",
    "        self.handles = handles\n",
    "        self.capacity = capacity\n",
    "        self.items = items\n",
    "        \n",
    "    # Write a method that shows the items in your ShoppingBag / this is our items list\n",
    "    def showShoppingBag(self):\n",
    "        print('You have items in your bag!')\n",
    "        for item in self.items:\n",
    "            print(item)\n",
    "            \n",
    "    # Show the capacity of Shoppingbag - how much room is left\n",
    "    def showCapacity(self):\n",
    "        print(f'Your capacity is: {self.capacity}')\n",
    "        \n",
    "    # Add item(s) to the items list for the ShoppingBag\n",
    "    def addToShoppingBag(self):\n",
    "        products = input('What would you like to add? ')\n",
    "        self.items.append(products)\n",
    "        \n",
    "    # Change thje capacity of the ShippingBag\n",
    "    def changeBagCapacity(self, capacity):\n",
    "        self.capacity = capacity\n",
    "    \n",
    "    # Increase the capacity of the ShoppingBag by a default amount that we set to 10\n",
    "    def increaseCapacity(self, changed_capacity = 10):\n",
    "        if isinstance(self.capacity, str):\n",
    "            print(\"We can't add that here\")\n",
    "        else:\n",
    "            self.capacity += changed_capacity\n",
    "        "
   ]
  },
  {
   "cell_type": "markdown",
   "metadata": {},
   "source": [
    "##### Calling"
   ]
  },
  {
   "cell_type": "code",
   "execution_count": 47,
   "metadata": {},
   "outputs": [
    {
     "name": "stdout",
     "output_type": "stream",
     "text": [
      "What do you want to do? add/show/quit add\n",
      "What would you like to add? banana\n",
      "What do you want to do? add/show/quit grape\n",
      "Try another command\n",
      "What do you want to do? add/show/quit apple\n",
      "Try another command\n",
      "What do you want to do? add/show/quit show\n",
      "You have items in your bag!\n",
      "banana\n",
      "What do you want to do? add/show/quit show\n",
      "You have items in your bag!\n",
      "banana\n",
      "What do you want to do? add/show/quit add\n",
      "What would you like to add? apple\n",
      "What do you want to do? add/show/quit show\n",
      "You have items in your bag!\n",
      "banana\n",
      "apple\n",
      "What do you want to do? add/show/quit quit\n",
      "You have items in your bag!\n",
      "banana\n",
      "apple\n",
      "Thanks for shopping\n"
     ]
    }
   ],
   "source": [
    "# See Above\n",
    "# So far, we have created the idea of the shopping bag; now we will actually instantiate and MAKE one, and use it!\n",
    "wholeFoods_bag = ShoppingBag(2, 10, [])\n",
    "\n",
    "# Create a function to run the ShoppingBag methods on the wholeFoods_bag instance\n",
    "def run():\n",
    "    while True:\n",
    "        response = input('What do you want to do? add/show/quit ').lower()\n",
    "        if response == 'quit':\n",
    "            wholeFoods_bag.showShoppingBag()\n",
    "            print('Thanks for shopping')\n",
    "            break\n",
    "        elif response == 'add':\n",
    "            wholeFoods_bag.addToShoppingBag()\n",
    "        elif response == 'show':\n",
    "            wholeFoods_bag.showShoppingBag()\n",
    "        else:\n",
    "            print('Try another command')\n",
    "            \n",
    "run()"
   ]
  },
  {
   "cell_type": "markdown",
   "metadata": {},
   "source": [
    "##### Modifying an Attribute's Value Through a Method"
   ]
  },
  {
   "cell_type": "code",
   "execution_count": 49,
   "metadata": {},
   "outputs": [
    {
     "name": "stdout",
     "output_type": "stream",
     "text": [
      "Your capacity is: 40\n",
      "Capacity AFTER the change...\n",
      "Your capacity is: 40\n"
     ]
    }
   ],
   "source": [
    "# Show the capacity\n",
    "wholeFoods_bag.showCapacity()\n",
    "print(f'Capacity AFTER the change...')\n",
    "wholeFoods_bag.changeBagCapacity(40)\n",
    "wholeFoods_bag.showCapacity()"
   ]
  },
  {
   "cell_type": "markdown",
   "metadata": {},
   "source": [
    "##### Incrementing an Attribute's Value Through a Method"
   ]
  },
  {
   "cell_type": "code",
   "execution_count": 50,
   "metadata": {},
   "outputs": [
    {
     "name": "stdout",
     "output_type": "stream",
     "text": [
      "Your capacity is: 40\n",
      "After increase\n",
      "Your capacity is: 50\n"
     ]
    }
   ],
   "source": [
    "wholeFoods_bag.showCapacity()\n",
    "print('After increase')\n",
    "wholeFoods_bag.increaseCapacity()\n",
    "wholeFoods_bag.showCapacity()"
   ]
  },
  {
   "cell_type": "markdown",
   "metadata": {},
   "source": [
    "##### In-Class Exercise #3 - Add a method that takes in three parameters of year, doors and seats and prints out a formatted print statement with make, model, year, seats, and doors"
   ]
  },
  {
   "cell_type": "code",
   "execution_count": 54,
   "metadata": {},
   "outputs": [
    {
     "name": "stdout",
     "output_type": "stream",
     "text": [
      "This Buick Skylark made in the year 1964 has 4 doors and 4 seats\n"
     ]
    }
   ],
   "source": [
    "# Create class with 2 paramters inside of the __init__ which are make and model\n",
    "\n",
    "# Inside of the Car class create a method that has 4 parameter in total (self,year,door,seats)\n",
    "\n",
    "# Output: This car is from 2019 and is a Ford Expolorer and has 4 doors and 5 seats\n",
    "\n",
    "class Car():\n",
    "    def __init__(self, make, model):\n",
    "        self.make = make\n",
    "        self.model = model\n",
    "        \n",
    "    def printInfo(self, year, door, seats):\n",
    "        print(f'This {self.make} {self.model} made in the year {year} has {door} doors and {seats} seats')\n",
    "        \n",
    "buick_skylark = Car('Buick', 'Skylark')\n",
    "buick_skylark.printInfo(1964, 4, 4)"
   ]
  },
  {
   "cell_type": "markdown",
   "metadata": {},
   "source": [
    "## Inheritance <br>\n",
    "<p>You can create a child-parent relationship between two classes by using inheritance. What this allows you to do is have overriding methods, but also inherit traits from the parent class. Think of it as an actual parent and child, the child will inherit the parent's genes, as will the classes in OOP</p>"
   ]
  },
  {
   "cell_type": "markdown",
   "metadata": {},
   "source": [
    "##### Syntax for Inheriting from a Parent Class"
   ]
  },
  {
   "cell_type": "code",
   "execution_count": 56,
   "metadata": {},
   "outputs": [
    {
     "name": "stdout",
     "output_type": "stream",
     "text": [
      "Bark\n",
      "Make some generic sound\n",
      "None\n",
      "9.8\n"
     ]
    }
   ],
   "source": [
    "# Create a parent class and call it Animal\n",
    "class Animal():\n",
    "    acceleration = 9.8\n",
    "    \n",
    "    def __init__(self, name, species, legs = 4):\n",
    "        self.name = name\n",
    "        self.species = species\n",
    "        self.legs = legs\n",
    "        \n",
    "    # Gemeroc Parent Method - This is not overriding anything\n",
    "    def makeSound(self):\n",
    "        print('Make some generic sound')\n",
    "        \n",
    "# Now we are making our child class... Dog\n",
    "class Dog(Animal):\n",
    "    speed = 15\n",
    "    \n",
    "    def printInfo(self):\n",
    "        print(f'The Dog has {self.speed}mph in speed and {self.acceleration}')\n",
    "        \n",
    "# Creation of our Grand-Child Class -- Mutt\n",
    "class Mutt(Dog):\n",
    "    color = 'Tan'\n",
    "    \n",
    "    # Override the ANIMAL class - using the Dog class to overwrite the __init__ from Animal\n",
    "    def __init__(self, name, species, eye_color, legs = 4):\n",
    "        Dog.__init__(self, name, species, legs)\n",
    "        self.eye_color = eye_color\n",
    "        \n",
    "    # Override the makeSound method (which is coming from... ANIMAL)\n",
    "    def makeSound(self):\n",
    "        noise = 'Bark'\n",
    "        return noise\n",
    "    \n",
    "lassie = Dog('Lassie', 'Dog')\n",
    "basic_animal = Animal('Generic Animal Name', 'Generic Animal Species')\n",
    "buster = Mutt('Buster', 'Mutt', 'Brown')\n",
    "\n",
    "print(buster.makeSound())\n",
    "print(lassie.makeSound())\n",
    "print(buster.acceleration)"
   ]
  },
  {
   "cell_type": "markdown",
   "metadata": {},
   "source": [
    "##### The \\__init\\__() Method for a Child Class - super()"
   ]
  },
  {
   "cell_type": "code",
   "execution_count": 58,
   "metadata": {
    "scrolled": true
   },
   "outputs": [
    {
     "name": "stdout",
     "output_type": "stream",
     "text": [
      "Bark\n",
      "Make some generic sound\n",
      "None\n",
      "9.8\n"
     ]
    }
   ],
   "source": [
    "class Puppy(Dog):\n",
    "    color = 'black and brown'\n",
    "    \n",
    "    # Override the animal class __init__ (via Dog class)\n",
    "    def __init__(self, name, species, eye_color, legs = 4 ):\n",
    "        super().__init__(name, species, legs)\n",
    "        self.eye_color = eye_color\n",
    "        \n",
    "    # Override the makeSound method (which is coming from... ANIMAL)\n",
    "    def makeSound(self):\n",
    "        noise = 'Bark'\n",
    "        return noise\n",
    "    \n",
    "lassie = Dog('Lassie', 'Dog')\n",
    "basic_animal = Animal('Generic Animal Name', 'Generic Animal Species')\n",
    "buster = Mutt('Buster', 'Mutt', 'Brown')\n",
    "\n",
    "print(buster.makeSound())\n",
    "print(lassie.makeSound())\n",
    "print(buster.acceleration)"
   ]
  },
  {
   "cell_type": "markdown",
   "metadata": {},
   "source": [
    "##### Defining Attributes and Methods for the Child Class"
   ]
  },
  {
   "cell_type": "code",
   "execution_count": null,
   "metadata": {},
   "outputs": [],
   "source": [
    "# See Above"
   ]
  },
  {
   "cell_type": "markdown",
   "metadata": {},
   "source": [
    "##### Method Overriding"
   ]
  },
  {
   "cell_type": "code",
   "execution_count": null,
   "metadata": {},
   "outputs": [],
   "source": [
    "# See Above"
   ]
  },
  {
   "cell_type": "markdown",
   "metadata": {},
   "source": [
    "## Classes as Attributes <br>\n",
    "<p>Classes can also be used as attributes within another class. This is useful in situations where you need to keep variables locally stored, instead of globally stored.</p>"
   ]
  },
  {
   "cell_type": "code",
   "execution_count": 60,
   "metadata": {},
   "outputs": [
    {
     "name": "stdout",
     "output_type": "stream",
     "text": [
      "20\n"
     ]
    },
    {
     "data": {
      "text/plain": [
       "'2019 Tesla Model X 20'"
      ]
     },
     "execution_count": 60,
     "metadata": {},
     "output_type": "execute_result"
    }
   ],
   "source": [
    "class Battery():\n",
    "    volts = 7.8\n",
    "    \n",
    "    def __init__(self, cells):\n",
    "        self.cells = cells\n",
    "        \n",
    "class Car():\n",
    "    def __init__(self, year, make, model, battery):\n",
    "        self.year = year\n",
    "        self.make = make\n",
    "        self.model = model\n",
    "        self.battery = battery\n",
    "        \n",
    "    def printInfo(self):\n",
    "        return f'{self.year} {self.make} {self.model} {self.battery.cells}'\n",
    "    \n",
    "my_battery = Battery(20)\n",
    "tesla = Car(2019, 'Tesla', 'Model X', my_battery)\n",
    "\n",
    "print(tesla.battery.cells)\n",
    "tesla.printInfo()"
   ]
  },
  {
   "cell_type": "markdown",
   "metadata": {},
   "source": [
    "# Exercises"
   ]
  },
  {
   "cell_type": "markdown",
   "metadata": {},
   "source": [
    "### Exercise 1 - Turn the shopping cart program from yesterday into an object-oriented program\n",
    "\n",
    "The comments in the cell below are there as a guide for thinking about the problem. However, if you feel a different way is best for you and your own thought process, please do what feels best for you by all means."
   ]
  },
  {
   "cell_type": "code",
   "execution_count": 4,
   "metadata": {},
   "outputs": [
    {
     "name": "stdout",
     "output_type": "stream",
     "text": [
      "Welcome to our store!\n",
      "What would you like to do? Show / Add / Remove / Quit >> \n",
      "Please enter a valid choice...\n",
      "What would you like to do? Show / Add / Remove / Quit >> \n",
      "Please enter a valid choice...\n",
      "What would you like to do? Show / Add / Remove / Quit >> \n",
      "Please enter a valid choice...\n",
      "What would you like to do? Show / Add / Remove / Quit >> uit\n",
      "Please enter a valid choice...\n",
      "What would you like to do? Show / Add / Remove / Quit >> quit\n",
      "Next time actually buy something...\n",
      "Thank you for shopping with us!\n"
     ]
    }
   ],
   "source": [
    "# Create a class called cart that retains items and has methods to add, remove, and show\n",
    "class Cart():\n",
    "    def __init__(self, items = []):\n",
    "        self.items = items\n",
    "        \n",
    "    def addToCart(self, item, amount):\n",
    "        for i in range(amount):\n",
    "            self.items.append(item)\n",
    "        \n",
    "    def removeFromCart(self, item, amount):\n",
    "        for i in range(amount):\n",
    "            if item in self.items:\n",
    "                self.items.remove(item)\n",
    "            else:\n",
    "                break\n",
    "                \n",
    "    def isItemInCart(self, item):\n",
    "        return item in self.items\n",
    "    \n",
    "    def getItemCount(self, item):\n",
    "        return self.items.count(item)\n",
    "    \n",
    "    def showCart(self):\n",
    "        self.items.sort()\n",
    "        \n",
    "        if len(self.items) == 0:\n",
    "            print('Cart is Empty')\n",
    "        else:\n",
    "            for item in set(self.items):\n",
    "                print(f'Item: {item} - Amount: {self.items.count(item)}')\n",
    "            print(f'Total amount of items: {len(self.items)}')\n",
    "            \n",
    "    def isCartEmpty(self):\n",
    "        return len(self.items) == 0\n",
    "            \n",
    "            \n",
    "def run():\n",
    "    cart = Cart()\n",
    "    \n",
    "    print('Welcome to our store!')\n",
    "    while True:\n",
    "        choice = input('What would you like to do? Show / Add / Remove / Quit >> ').lower()\n",
    "        \n",
    "        if choice == 'show':\n",
    "            print('Displaying shopping cart:')\n",
    "            cart.showCart()\n",
    "        elif choice == 'add':\n",
    "            item = input('What would you like to add? >> ').title()\n",
    "            if item == '':\n",
    "                print('You did not select an item...')\n",
    "                continue\n",
    "            else:\n",
    "                try:\n",
    "                    amount = int(input('How many would you like to add to your cart? >> '))\n",
    "                    if amount < 0:\n",
    "                        print('That would be REMOVING things... Please use the Remove command instead')\n",
    "                    elif amount == 0:\n",
    "                        print('Okay, your cart is unaffected...')\n",
    "                    else:\n",
    "                        cart.addToCart(item, amount)\n",
    "                        print(f'Total amount of {item} in cart is now {cart.getItemCount(item)}')\n",
    "                except:\n",
    "                    print('That was not a valid number...')\n",
    "                    \n",
    "                    \n",
    "                        \n",
    "        elif choice == 'remove':\n",
    "            item = input('What would you like to remove? >> ').title()\n",
    "            if item == '':\n",
    "                print('You did not select an item...')\n",
    "                continue\n",
    "            else:\n",
    "                if not cart.isItemInCart(item):\n",
    "                    print('That item is not in your cart...')\n",
    "                else:\n",
    "                    try:\n",
    "                        amount = int(input('How many would you like to remove from your cart? >> '))\n",
    "                        cart.removeFromCart(item, amount)\n",
    "                        if cart.isItemInCart(item):\n",
    "                            print(f'Remaining {item} in your cart is now {cart.getItemCount(item)}')\n",
    "                        else:\n",
    "                            print(f'{item} is no longer in your cart')\n",
    "                    except:\n",
    "                        print('That was not a valid number...')\n",
    "                    \n",
    "        elif choice == 'quit':\n",
    "            break\n",
    "        else:\n",
    "            print('Please enter a valid choice...')\n",
    "            \n",
    "    if cart.isCartEmpty():\n",
    "        print('Next time actually buy something...')\n",
    "    else:\n",
    "        print('Checking out...')\n",
    "        cart.showCart()\n",
    "    print('Thank you for shopping with us!')\n",
    "            \n",
    "                        \n",
    "run()"
   ]
  },
  {
   "cell_type": "markdown",
   "metadata": {},
   "source": [
    "### Exercise 2 - Write a Python class which has two methods get_String and print_String. get_String accept a string from the user and print_String print the string in upper case"
   ]
  },
  {
   "cell_type": "code",
   "execution_count": 9,
   "metadata": {},
   "outputs": [
    {
     "name": "stdout",
     "output_type": "stream",
     "text": [
      "Enter some text, and I'll make it uppercase for you!1\n",
      "Your text in uppercase is:\n",
      "1\n"
     ]
    }
   ],
   "source": [
    "class StringThing():\n",
    "    def __init__(self):\n",
    "        self.text = ''\n",
    "        \n",
    "    def get_String(self):\n",
    "        self.text = input('Enter some text, and I\\'ll make it uppercase for you!')\n",
    "        \n",
    "    def print_String(self):\n",
    "        if self.text == '':\n",
    "            print('I can\\'t make it uppercase because I have nothing to work with')\n",
    "        elif self.text.isupper():\n",
    "            print('Your text is already uppercase...')\n",
    "        else:\n",
    "            print('Your text in uppercase is:')\n",
    "            print(f'{self.text.upper()}')\n",
    "        \n",
    "string_thing = StringThing()\n",
    "string_thing.get_String()\n",
    "string_thing.print_String()"
   ]
  },
  {
   "cell_type": "code",
   "execution_count": null,
   "metadata": {},
   "outputs": [],
   "source": []
  }
 ],
 "metadata": {
  "kernelspec": {
   "display_name": "Python 3 (ipykernel)",
   "language": "python",
   "name": "python3"
  },
  "language_info": {
   "codemirror_mode": {
    "name": "ipython",
    "version": 3
   },
   "file_extension": ".py",
   "mimetype": "text/x-python",
   "name": "python",
   "nbconvert_exporter": "python",
   "pygments_lexer": "ipython3",
   "version": "3.9.12"
  }
 },
 "nbformat": 4,
 "nbformat_minor": 2
}
